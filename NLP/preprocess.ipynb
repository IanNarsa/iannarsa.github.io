{
 "cells": [
  {
   "cell_type": "markdown",
   "metadata": {},
   "source": [
    "# Preporcessing"
   ]
  },
  {
   "cell_type": "code",
   "execution_count": 1,
   "metadata": {},
   "outputs": [],
   "source": [
    "from nltk.tokenize import word_tokenize\n",
    "from nltk.corpus import stopwords\n",
    "import string\n",
    "from Sastrawi.Stemmer.StemmerFactory import StemmerFactory"
   ]
  },
  {
   "cell_type": "markdown",
   "metadata": {},
   "source": [
    "## Tahapan Preprocessing\n",
    "1. Case Folding\n",
    "2. Filtering\n",
    "3. Stemming\n",
    "4. Tokenize\n",
    "5. Stopword Removal"
   ]
  },
  {
   "cell_type": "code",
   "execution_count": 2,
   "metadata": {},
   "outputs": [
    {
     "name": "stdout",
     "output_type": "stream",
     "text": [
      "kalimat asli\n",
      "Aji menerima pesanan nsi dari dY yang Catik banget itu hingga melupakan masalah yg ada\n",
      "\n"
     ]
    }
   ],
   "source": [
    "k = \"Aji menerima pesanan nsi dari dY yang Catik banget itu hingga melupakan masalah yg ada\"\n",
    "print('kalimat asli')\n",
    "print(k)\n",
    "print()"
   ]
  },
  {
   "cell_type": "code",
   "execution_count": 3,
   "metadata": {},
   "outputs": [
    {
     "name": "stdout",
     "output_type": "stream",
     "text": [
      "Case Folding : \n",
      "aji menerima pesanan nsi dari dy yang catik banget itu hingga melupakan masalah yg ada\n",
      "\n"
     ]
    }
   ],
   "source": [
    "case_folding = k.lower()\n",
    "print(\"Case Folding : \")\n",
    "print(case_folding)\n",
    "print()"
   ]
  },
  {
   "cell_type": "code",
   "execution_count": 4,
   "metadata": {
    "scrolled": true
   },
   "outputs": [
    {
     "name": "stdout",
     "output_type": "stream",
     "text": [
      "Filtering\n",
      "aji menerima pesanan nsi dari dy yang catik banget itu hingga melupakan masalah yg ada\n",
      "\n"
     ]
    }
   ],
   "source": [
    "fil = case_folding.translate(str.maketrans(\"\",\"\",string.punctuation))\n",
    "print(\"Filtering\")\n",
    "print(fil)\n",
    "print()"
   ]
  },
  {
   "cell_type": "code",
   "execution_count": 5,
   "metadata": {},
   "outputs": [
    {
     "name": "stdout",
     "output_type": "stream",
     "text": [
      "Stemming\n",
      "aji terima pesan nsi dari dy yang catik banget itu hingga lupa masalah yg ada\n",
      "\n"
     ]
    }
   ],
   "source": [
    "print('Stemming')\n",
    "factory = StemmerFactory()\n",
    "stemmer = factory.create_stemmer()\n",
    "stemm = stemmer.stem(fil)\n",
    "print(stemm)\n",
    "print()"
   ]
  },
  {
   "cell_type": "code",
   "execution_count": 6,
   "metadata": {},
   "outputs": [
    {
     "name": "stdout",
     "output_type": "stream",
     "text": [
      "Tokenize\n",
      "['aji', 'terima', 'pesan', 'nsi', 'dari', 'dy', 'yang', 'catik', 'banget', 'itu', 'hingga', 'lupa', 'masalah', 'yg', 'ada']\n"
     ]
    }
   ],
   "source": [
    "tokens = word_tokenize(stemm)\n",
    "print(\"Tokenize\")\n",
    "print(tokens)"
   ]
  },
  {
   "cell_type": "code",
   "execution_count": 7,
   "metadata": {},
   "outputs": [
    {
     "name": "stdout",
     "output_type": "stream",
     "text": [
      "\n",
      "stopwords removal\n",
      "['aji', 'terima', 'pesan', 'nsi', 'dy', 'catik', 'banget', 'lupa']\n"
     ]
    }
   ],
   "source": [
    "stopword = set(stopwords.words('indonesian'))\n",
    "\n",
    "removed = []\n",
    "for t in tokens:\n",
    "    if t not in stopword:\n",
    "        removed.append(t)\n",
    "print()\n",
    "print('stopwords removal')\n",
    "print(removed)"
   ]
  }
 ],
 "metadata": {
  "kernelspec": {
   "display_name": "Python 3",
   "language": "python",
   "name": "python3"
  },
  "language_info": {
   "codemirror_mode": {
    "name": "ipython",
    "version": 3
   },
   "file_extension": ".py",
   "mimetype": "text/x-python",
   "name": "python",
   "nbconvert_exporter": "python",
   "pygments_lexer": "ipython3",
   "version": "3.7.3"
  }
 },
 "nbformat": 4,
 "nbformat_minor": 2
}
