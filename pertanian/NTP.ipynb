{
 "cells": [
  {
   "cell_type": "markdown",
   "metadata": {},
   "source": [
    "# Eksploratory Data Analysis Nilai Tukar Petani 2020\n",
    "\n",
    "## Penjelasan\n",
    "\n",
    "Proyek ini terdapat data yang berasal dari Badan Pusat Statistik (BPS https://www.bps.go.id/), pada data ini memuat nilai tukar petani (NTP).\n",
    "\n",
    "NTP sendiri merupakan indikator proxy kesejahteraan petani. NTP didapat dari perbandingan antara Indeks harga yg diterima petani (It) dengan Indeks harga yg dibayar petani (Ib).\n",
    "\n",
    "NTP sendiri mempunyai arti yaitu sebegai berikut:\n",
    "\n",
    "1. NTP > 100, berarti petani mengalami surplus. Harga produksi naik lebih besar dari kenaikan harga konsumsinya. Pendapatan petani naik lebih besar dari pengeluarannya.\n",
    "\n",
    "2. NTP = 100, berarti petani mengalami impas. Kenaikan/penurunan harga produksinya sama dengan persentase kenaikan/penurunan harga barang konsumsi. Pendapatan petani sama dengan pengeluarannya.\n",
    "\n",
    "3. NTP < 100, berarti petani mengalami defisit. Kenaikan harga produksi relatif lebih kecil dibandingkan dengan kenaikan harga barang konsumsinya. Pendapatan petani turun, lebih kecil dari pengeluarannya.\n",
    "\n",
    "Dari hasil Eploratory Data Analysis (EDA) diharapkan dapat menjadi sumber insight dalam pemberdayaan sektor pertanian."
   ]
  },
  {
   "cell_type": "code",
   "execution_count": 1,
   "metadata": {},
   "outputs": [
    {
     "data": {
      "text/plain": [
       "'id_ID.UTF-8'"
      ]
     },
     "execution_count": 1,
     "metadata": {},
     "output_type": "execute_result"
    }
   ],
   "source": [
    "import pandas as pd\n",
    "import matplotlib.pyplot as plt\n",
    "import seaborn as sns\n",
    "import locale\n",
    "from locale import atof\n",
    "import numpy as np\n",
    "import re\n",
    "locale.setlocale(locale.LC_NUMERIC, '')"
   ]
  },
  {
   "cell_type": "code",
   "execution_count": 2,
   "metadata": {},
   "outputs": [],
   "source": [
    "data = pd.read_csv(\"data/NTP_2020.csv\")"
   ]
  },
  {
   "cell_type": "code",
   "execution_count": 3,
   "metadata": {
    "scrolled": true
   },
   "outputs": [
    {
     "data": {
      "text/html": [
       "<div>\n",
       "<style scoped>\n",
       "    .dataframe tbody tr th:only-of-type {\n",
       "        vertical-align: middle;\n",
       "    }\n",
       "\n",
       "    .dataframe tbody tr th {\n",
       "        vertical-align: top;\n",
       "    }\n",
       "\n",
       "    .dataframe thead th {\n",
       "        text-align: right;\n",
       "    }\n",
       "</style>\n",
       "<table border=\"1\" class=\"dataframe\">\n",
       "  <thead>\n",
       "    <tr style=\"text-align: right;\">\n",
       "      <th></th>\n",
       "      <th>Provinsi</th>\n",
       "      <th>Januari</th>\n",
       "      <th>Februari</th>\n",
       "      <th>Maret</th>\n",
       "      <th>April</th>\n",
       "      <th>Mei</th>\n",
       "      <th>Juni</th>\n",
       "      <th>Juli</th>\n",
       "      <th>Agustus</th>\n",
       "      <th>September</th>\n",
       "      <th>Oktober</th>\n",
       "      <th>November</th>\n",
       "      <th>Desember</th>\n",
       "      <th>Tahunan</th>\n",
       "      <th>Kelompok</th>\n",
       "    </tr>\n",
       "  </thead>\n",
       "  <tbody>\n",
       "    <tr>\n",
       "      <th>0</th>\n",
       "      <td>ACEH</td>\n",
       "      <td>101,09</td>\n",
       "      <td>99,20</td>\n",
       "      <td>98,78</td>\n",
       "      <td>98,52</td>\n",
       "      <td>97,24</td>\n",
       "      <td>99,07</td>\n",
       "      <td>97,85</td>\n",
       "      <td>98,60</td>\n",
       "      <td>98,88</td>\n",
       "      <td>98,52</td>\n",
       "      <td>99,12</td>\n",
       "      <td>98,01</td>\n",
       "      <td>98,74</td>\n",
       "      <td>Petani</td>\n",
       "    </tr>\n",
       "    <tr>\n",
       "      <th>1</th>\n",
       "      <td>SUMATERA UTARA</td>\n",
       "      <td>113,69</td>\n",
       "      <td>111,71</td>\n",
       "      <td>109,41</td>\n",
       "      <td>106,41</td>\n",
       "      <td>104,50</td>\n",
       "      <td>105,13</td>\n",
       "      <td>106,84</td>\n",
       "      <td>108,53</td>\n",
       "      <td>110,44</td>\n",
       "      <td>112,01</td>\n",
       "      <td>114,00</td>\n",
       "      <td>115,21</td>\n",
       "      <td>109,83</td>\n",
       "      <td>Petani</td>\n",
       "    </tr>\n",
       "    <tr>\n",
       "      <th>2</th>\n",
       "      <td>SUMATERA BARAT</td>\n",
       "      <td>103,40</td>\n",
       "      <td>102,63</td>\n",
       "      <td>101,74</td>\n",
       "      <td>99,62</td>\n",
       "      <td>97,73</td>\n",
       "      <td>97,98</td>\n",
       "      <td>98,39</td>\n",
       "      <td>99,41</td>\n",
       "      <td>100,54</td>\n",
       "      <td>100,94</td>\n",
       "      <td>101,95</td>\n",
       "      <td>102,68</td>\n",
       "      <td>100,59</td>\n",
       "      <td>Petani</td>\n",
       "    </tr>\n",
       "    <tr>\n",
       "      <th>3</th>\n",
       "      <td>RIAU</td>\n",
       "      <td>123,93</td>\n",
       "      <td>117,90</td>\n",
       "      <td>113,76</td>\n",
       "      <td>115,64</td>\n",
       "      <td>111,74</td>\n",
       "      <td>109,66</td>\n",
       "      <td>113,57</td>\n",
       "      <td>116,88</td>\n",
       "      <td>120,94</td>\n",
       "      <td>123,61</td>\n",
       "      <td>127,32</td>\n",
       "      <td>130,34</td>\n",
       "      <td>118,79</td>\n",
       "      <td>Petani</td>\n",
       "    </tr>\n",
       "    <tr>\n",
       "      <th>4</th>\n",
       "      <td>JAMBI</td>\n",
       "      <td>110,47</td>\n",
       "      <td>107,07</td>\n",
       "      <td>104,85</td>\n",
       "      <td>102,16</td>\n",
       "      <td>98,55</td>\n",
       "      <td>101,15</td>\n",
       "      <td>103,57</td>\n",
       "      <td>106,89</td>\n",
       "      <td>110,28</td>\n",
       "      <td>112,68</td>\n",
       "      <td>115,75</td>\n",
       "      <td>117,83</td>\n",
       "      <td>107,62</td>\n",
       "      <td>Petani</td>\n",
       "    </tr>\n",
       "  </tbody>\n",
       "</table>\n",
       "</div>"
      ],
      "text/plain": [
       "         Provinsi Januari Februari   Maret   April     Mei    Juni    Juli  \\\n",
       "0            ACEH  101,09    99,20   98,78   98,52   97,24   99,07   97,85   \n",
       "1  SUMATERA UTARA  113,69   111,71  109,41  106,41  104,50  105,13  106,84   \n",
       "2  SUMATERA BARAT  103,40   102,63  101,74   99,62   97,73   97,98   98,39   \n",
       "3            RIAU  123,93   117,90  113,76  115,64  111,74  109,66  113,57   \n",
       "4           JAMBI  110,47   107,07  104,85  102,16   98,55  101,15  103,57   \n",
       "\n",
       "  Agustus September Oktober November Desember Tahunan Kelompok  \n",
       "0   98,60     98,88   98,52    99,12    98,01   98,74   Petani  \n",
       "1  108,53    110,44  112,01   114,00   115,21  109,83   Petani  \n",
       "2   99,41    100,54  100,94   101,95   102,68  100,59   Petani  \n",
       "3  116,88    120,94  123,61   127,32   130,34  118,79   Petani  \n",
       "4  106,89    110,28  112,68   115,75   117,83  107,62   Petani  "
      ]
     },
     "execution_count": 3,
     "metadata": {},
     "output_type": "execute_result"
    }
   ],
   "source": [
    "data.head()"
   ]
  },
  {
   "cell_type": "code",
   "execution_count": 4,
   "metadata": {},
   "outputs": [],
   "source": [
    "data = data.replace('-',np.nan)\n",
    "data = data.replace(np.nan, 0)"
   ]
  },
  {
   "cell_type": "code",
   "execution_count": 5,
   "metadata": {},
   "outputs": [
    {
     "name": "stdout",
     "output_type": "stream",
     "text": [
      "Kelompok  ['Petani' 'Petani Tanaman Pangan' 'Petani Hortikultura'\n",
      " 'Petani Tanaman Perkebunan' 'Petani Peternakan' 'Nelayan'\n",
      " 'Pembudidayaan Ikan' 'Nelayan dan Pembudidayaan Ikan']\n",
      "Provinsi  ['ACEH' 'SUMATERA UTARA' 'SUMATERA BARAT' 'RIAU' 'JAMBI'\n",
      " 'SUMATERA SELATAN' 'BENGKULU' 'LAMPUNG' 'KEP. BANGKA BELITUNG'\n",
      " 'KEP. RIAU' 'DKI JAKARTA' 'JAWA BARAT' 'JAWA TENGAH' 'DI YOGYAKARTA'\n",
      " 'JAWA TIMUR' 'BANTEN' 'BALI' 'NUSA TENGGARA BARAT' 'NUSA TENGGARA TIMUR'\n",
      " 'KALIMANTAN BARAT' 'KALIMANTAN TENGAH' 'KALIMANTAN SELATAN'\n",
      " 'KALIMANTAN TIMUR' 'KALIMANTAN UTARA' 'SULAWESI UTARA' 'SULAWESI TENGAH'\n",
      " 'SULAWESI SELATAN' 'SULAWESI TENGGARA' 'GORONTALO' 'SULAWESI BARAT'\n",
      " 'MALUKU' 'MALUKU UTARA' 'PAPUA BARAT' 'PAPUA' 'INDONESIA']\n"
     ]
    }
   ],
   "source": [
    "# melihat atribut yang ada pada table\n",
    "\n",
    "print(\"Kelompok \",data[\"Kelompok\"].unique())\n",
    "print(\"Provinsi \",data[\"Provinsi\"].unique())"
   ]
  },
  {
   "cell_type": "code",
   "execution_count": 6,
   "metadata": {},
   "outputs": [],
   "source": [
    "# pengkelompokan berdasarkan jenis usaha\n",
    "\n",
    "dfPangan = data[data[\"Kelompok\"]==\"Petani Tanaman Pangan\"].drop(columns = \"Kelompok\").set_index('Provinsi').apply(lambda x: x.str.replace(',','.')).astype(float).replace(np.nan, 0)\n",
    "dfHortikultura  = data[data[\"Kelompok\"]==\"Petani Hortikultura\"].drop(columns = \"Kelompok\").set_index('Provinsi').apply(lambda x: x.str.replace(',','.')).astype(float).replace(np.nan, 0)\n",
    "dfKebun = data[data[\"Kelompok\"]==\"Petani Tanaman Perkebunan\"].drop(columns = \"Kelompok\").set_index('Provinsi').apply(lambda x: x.str.replace(',','.')).astype(float).replace(np.nan, 0)\n",
    "dfPeternakan = data[data[\"Kelompok\"]==\"Petani Peternakan\"].drop(columns = \"Kelompok\").set_index('Provinsi').apply(lambda x: x.str.replace(',','.')).astype(float).replace(np.nan, 0)\n",
    "dfNelayan = data[data[\"Kelompok\"]==\"Nelayan\"].drop(columns = \"Kelompok\").set_index('Provinsi').apply(lambda x: x.str.replace(',','.')).astype(float).replace(np.nan, 0)\n",
    "dfBudIkan = data[data[\"Kelompok\"]==\"Pembudidayaan Ikan\"].drop(columns = \"Kelompok\").set_index('Provinsi').apply(lambda x: x.str.replace(',','.')).astype(float).replace(np.nan, 0)\n",
    "dfNelayandanBudidaya = data[data[\"Kelompok\"]==\"Nelayan dan Pembudidayaan Ikan\"].drop(columns = \"Kelompok\").set_index('Provinsi').apply(lambda x: x.str.replace(',','.')).astype(float).replace(np.nan, 0)"
   ]
  },
  {
   "cell_type": "code",
   "execution_count": 7,
   "metadata": {},
   "outputs": [],
   "source": [
    "# ambil data berdasarkan provinsi\n",
    "\n",
    "dfPProv = dfPangan.drop(index='INDONESIA')\n",
    "dfHProv = dfHortikultura.drop(index='INDONESIA')\n",
    "dfKprov = dfKebun.drop(index='INDONESIA')\n",
    "dfTProv = dfPeternakan.drop(index='INDONESIA')\n",
    "dfNProv = dfNelayan.drop(index='INDONESIA')\n",
    "dfIProv = dfBudIkan.drop(index='INDONESIA')\n",
    "dfNBProv = dfNelayandanBudidaya.drop(index='INDONESIA')"
   ]
  },
  {
   "cell_type": "markdown",
   "metadata": {},
   "source": [
    "### NTP Wilayah Tertinggi  Berdasarkan Kelompok Pertanian"
   ]
  },
  {
   "cell_type": "code",
   "execution_count": 31,
   "metadata": {},
   "outputs": [],
   "source": [
    "d = {'Kelompok': ['Tani Pangan', 'Tani Hortikultura', 'Perkebunan', 'Peternakan', 'Nelayan', 'Budidaya Ikan', 'Nelayan dan Pembudidayaan Ikan'], \n",
    "     'Provinsi': [dfPangan[dfPangan[\"Tahunan\"]==dfPangan[\"Tahunan\"].max()][\"Tahunan\"].index[0], \n",
    "                  dfHortikultura[dfHortikultura[\"Tahunan\"]==dfHortikultura[\"Tahunan\"].max()][\"Tahunan\"].index[0],\n",
    "                  dfKebun[dfKebun[\"Tahunan\"]==dfKebun[\"Tahunan\"].max()][\"Tahunan\"].index[0],\n",
    "                  dfPeternakan[dfPeternakan[\"Tahunan\"]==dfPeternakan[\"Tahunan\"].max()][\"Tahunan\"].index[0],\n",
    "                  dfNelayan[dfNelayan[\"Tahunan\"]==dfNelayan[\"Tahunan\"].max()][\"Tahunan\"].index[0],\n",
    "                  dfBudIkan[dfBudIkan[\"Tahunan\"]==dfBudIkan[\"Tahunan\"].max()][\"Tahunan\"].index[0],\n",
    "                  dfNelayandanBudidaya[dfNelayandanBudidaya[\"Tahunan\"]==dfNelayandanBudidaya[\"Tahunan\"].max()][\"Tahunan\"].index[0]],\n",
    "    'Nilai': [dfPangan[dfPangan[\"Tahunan\"]==dfPangan[\"Tahunan\"].max()][\"Tahunan\"].values[0], \n",
    "                  dfHortikultura[dfHortikultura[\"Tahunan\"]==dfHortikultura[\"Tahunan\"].max()][\"Tahunan\"].values[0],\n",
    "                  dfKebun[dfKebun[\"Tahunan\"]==dfKebun[\"Tahunan\"].max()][\"Tahunan\"].values[0],\n",
    "                  dfPeternakan[dfPeternakan[\"Tahunan\"]==dfPeternakan[\"Tahunan\"].max()][\"Tahunan\"].values[0],\n",
    "                  dfNelayan[dfNelayan[\"Tahunan\"]==dfNelayan[\"Tahunan\"].max()][\"Tahunan\"].values[0],\n",
    "                  dfBudIkan[dfBudIkan[\"Tahunan\"]==dfBudIkan[\"Tahunan\"].max()][\"Tahunan\"].values[0],\n",
    "                  dfNelayandanBudidaya[dfNelayandanBudidaya[\"Tahunan\"]==dfNelayandanBudidaya[\"Tahunan\"].max()][\"Tahunan\"].values[0]]\n",
    "    }\n",
    "dfNTPMax = pd.DataFrame(data=d)"
   ]
  },
  {
   "cell_type": "code",
   "execution_count": 30,
   "metadata": {},
   "outputs": [
    {
     "data": {
      "text/html": [
       "<div>\n",
       "<style scoped>\n",
       "    .dataframe tbody tr th:only-of-type {\n",
       "        vertical-align: middle;\n",
       "    }\n",
       "\n",
       "    .dataframe tbody tr th {\n",
       "        vertical-align: top;\n",
       "    }\n",
       "\n",
       "    .dataframe thead th {\n",
       "        text-align: right;\n",
       "    }\n",
       "</style>\n",
       "<table border=\"1\" class=\"dataframe\">\n",
       "  <thead>\n",
       "    <tr style=\"text-align: right;\">\n",
       "      <th></th>\n",
       "      <th>Kelompok</th>\n",
       "      <th>Provinsi</th>\n",
       "      <th>Nilai</th>\n",
       "    </tr>\n",
       "  </thead>\n",
       "  <tbody>\n",
       "    <tr>\n",
       "      <th>0</th>\n",
       "      <td>Tani Pangan</td>\n",
       "      <td>NUSA TENGGARA BARAT</td>\n",
       "      <td>108.59</td>\n",
       "    </tr>\n",
       "    <tr>\n",
       "      <th>1</th>\n",
       "      <td>Tani Hortikultura</td>\n",
       "      <td>SULAWESI BARAT</td>\n",
       "      <td>109.98</td>\n",
       "    </tr>\n",
       "    <tr>\n",
       "      <th>2</th>\n",
       "      <td>Perkebunan</td>\n",
       "      <td>SUMATERA UTARA</td>\n",
       "      <td>125.05</td>\n",
       "    </tr>\n",
       "    <tr>\n",
       "      <th>3</th>\n",
       "      <td>Peternakan</td>\n",
       "      <td>PAPUA</td>\n",
       "      <td>108.34</td>\n",
       "    </tr>\n",
       "    <tr>\n",
       "      <th>4</th>\n",
       "      <td>Nelayan</td>\n",
       "      <td>PAPUA</td>\n",
       "      <td>110.52</td>\n",
       "    </tr>\n",
       "    <tr>\n",
       "      <th>5</th>\n",
       "      <td>Budidaya Ikan</td>\n",
       "      <td>JAWA TENGAH</td>\n",
       "      <td>108.51</td>\n",
       "    </tr>\n",
       "    <tr>\n",
       "      <th>6</th>\n",
       "      <td>Nelayan dan Pembudidayaan Ikan</td>\n",
       "      <td>PAPUA</td>\n",
       "      <td>110.04</td>\n",
       "    </tr>\n",
       "  </tbody>\n",
       "</table>\n",
       "</div>"
      ],
      "text/plain": [
       "                         Kelompok             Provinsi   Nilai\n",
       "0                     Tani Pangan  NUSA TENGGARA BARAT  108.59\n",
       "1               Tani Hortikultura       SULAWESI BARAT  109.98\n",
       "2                      Perkebunan       SUMATERA UTARA  125.05\n",
       "3                      Peternakan                PAPUA  108.34\n",
       "4                         Nelayan                PAPUA  110.52\n",
       "5                   Budidaya Ikan          JAWA TENGAH  108.51\n",
       "6  Nelayan dan Pembudidayaan Ikan                PAPUA  110.04"
      ]
     },
     "execution_count": 30,
     "metadata": {},
     "output_type": "execute_result"
    }
   ],
   "source": [
    "dfNTPMax"
   ]
  },
  {
   "cell_type": "markdown",
   "metadata": {},
   "source": [
    "## EDA Bagian Kelompok Petani Pangan"
   ]
  },
  {
   "cell_type": "code",
   "execution_count": 33,
   "metadata": {},
   "outputs": [
    {
     "name": "stdout",
     "output_type": "stream",
     "text": [
      "======================== Statistik Deskriptif Kelompok Petani Pangan Seluruh Provinsi ========================\n"
     ]
    },
    {
     "data": {
      "text/html": [
       "<div>\n",
       "<style scoped>\n",
       "    .dataframe tbody tr th:only-of-type {\n",
       "        vertical-align: middle;\n",
       "    }\n",
       "\n",
       "    .dataframe tbody tr th {\n",
       "        vertical-align: top;\n",
       "    }\n",
       "\n",
       "    .dataframe thead th {\n",
       "        text-align: right;\n",
       "    }\n",
       "</style>\n",
       "<table border=\"1\" class=\"dataframe\">\n",
       "  <thead>\n",
       "    <tr style=\"text-align: right;\">\n",
       "      <th></th>\n",
       "      <th>Januari</th>\n",
       "      <th>Februari</th>\n",
       "      <th>Maret</th>\n",
       "      <th>April</th>\n",
       "      <th>Mei</th>\n",
       "      <th>Juni</th>\n",
       "      <th>Juli</th>\n",
       "      <th>Agustus</th>\n",
       "      <th>September</th>\n",
       "      <th>Oktober</th>\n",
       "      <th>November</th>\n",
       "      <th>Desember</th>\n",
       "    </tr>\n",
       "  </thead>\n",
       "  <tbody>\n",
       "    <tr>\n",
       "      <th>count</th>\n",
       "      <td>34.000000</td>\n",
       "      <td>34.000000</td>\n",
       "      <td>34.000000</td>\n",
       "      <td>34.000000</td>\n",
       "      <td>34.000000</td>\n",
       "      <td>34.000000</td>\n",
       "      <td>34.000000</td>\n",
       "      <td>34.000000</td>\n",
       "      <td>34.000000</td>\n",
       "      <td>34.000000</td>\n",
       "      <td>34.000000</td>\n",
       "      <td>34.000000</td>\n",
       "    </tr>\n",
       "    <tr>\n",
       "      <th>mean</th>\n",
       "      <td>98.142059</td>\n",
       "      <td>97.966176</td>\n",
       "      <td>97.567059</td>\n",
       "      <td>97.174118</td>\n",
       "      <td>96.690294</td>\n",
       "      <td>96.413824</td>\n",
       "      <td>96.471471</td>\n",
       "      <td>96.838824</td>\n",
       "      <td>97.114118</td>\n",
       "      <td>97.015882</td>\n",
       "      <td>96.616765</td>\n",
       "      <td>96.275588</td>\n",
       "    </tr>\n",
       "    <tr>\n",
       "      <th>std</th>\n",
       "      <td>17.769204</td>\n",
       "      <td>17.741443</td>\n",
       "      <td>17.699880</td>\n",
       "      <td>17.466242</td>\n",
       "      <td>17.373776</td>\n",
       "      <td>17.309957</td>\n",
       "      <td>17.341319</td>\n",
       "      <td>17.450627</td>\n",
       "      <td>17.485843</td>\n",
       "      <td>17.546963</td>\n",
       "      <td>17.494098</td>\n",
       "      <td>17.461097</td>\n",
       "    </tr>\n",
       "    <tr>\n",
       "      <th>min</th>\n",
       "      <td>0.000000</td>\n",
       "      <td>0.000000</td>\n",
       "      <td>0.000000</td>\n",
       "      <td>0.000000</td>\n",
       "      <td>0.000000</td>\n",
       "      <td>0.000000</td>\n",
       "      <td>0.000000</td>\n",
       "      <td>0.000000</td>\n",
       "      <td>0.000000</td>\n",
       "      <td>0.000000</td>\n",
       "      <td>0.000000</td>\n",
       "      <td>0.000000</td>\n",
       "    </tr>\n",
       "    <tr>\n",
       "      <th>25%</th>\n",
       "      <td>97.750000</td>\n",
       "      <td>97.822500</td>\n",
       "      <td>96.882500</td>\n",
       "      <td>96.842500</td>\n",
       "      <td>97.115000</td>\n",
       "      <td>97.315000</td>\n",
       "      <td>96.477500</td>\n",
       "      <td>97.247500</td>\n",
       "      <td>97.330000</td>\n",
       "      <td>97.075000</td>\n",
       "      <td>96.957500</td>\n",
       "      <td>96.767500</td>\n",
       "    </tr>\n",
       "    <tr>\n",
       "      <th>50%</th>\n",
       "      <td>100.835000</td>\n",
       "      <td>100.545000</td>\n",
       "      <td>101.095000</td>\n",
       "      <td>99.965000</td>\n",
       "      <td>99.505000</td>\n",
       "      <td>99.125000</td>\n",
       "      <td>99.265000</td>\n",
       "      <td>99.440000</td>\n",
       "      <td>99.775000</td>\n",
       "      <td>99.835000</td>\n",
       "      <td>99.300000</td>\n",
       "      <td>98.550000</td>\n",
       "    </tr>\n",
       "    <tr>\n",
       "      <th>75%</th>\n",
       "      <td>103.267500</td>\n",
       "      <td>103.997500</td>\n",
       "      <td>102.855000</td>\n",
       "      <td>102.392500</td>\n",
       "      <td>101.712500</td>\n",
       "      <td>101.410000</td>\n",
       "      <td>101.370000</td>\n",
       "      <td>101.607500</td>\n",
       "      <td>102.365000</td>\n",
       "      <td>102.545000</td>\n",
       "      <td>101.760000</td>\n",
       "      <td>101.527500</td>\n",
       "    </tr>\n",
       "    <tr>\n",
       "      <th>max</th>\n",
       "      <td>108.670000</td>\n",
       "      <td>109.330000</td>\n",
       "      <td>109.160000</td>\n",
       "      <td>106.250000</td>\n",
       "      <td>106.080000</td>\n",
       "      <td>105.830000</td>\n",
       "      <td>106.600000</td>\n",
       "      <td>108.260000</td>\n",
       "      <td>108.720000</td>\n",
       "      <td>110.930000</td>\n",
       "      <td>111.760000</td>\n",
       "      <td>111.510000</td>\n",
       "    </tr>\n",
       "  </tbody>\n",
       "</table>\n",
       "</div>"
      ],
      "text/plain": [
       "          Januari    Februari       Maret       April         Mei        Juni  \\\n",
       "count   34.000000   34.000000   34.000000   34.000000   34.000000   34.000000   \n",
       "mean    98.142059   97.966176   97.567059   97.174118   96.690294   96.413824   \n",
       "std     17.769204   17.741443   17.699880   17.466242   17.373776   17.309957   \n",
       "min      0.000000    0.000000    0.000000    0.000000    0.000000    0.000000   \n",
       "25%     97.750000   97.822500   96.882500   96.842500   97.115000   97.315000   \n",
       "50%    100.835000  100.545000  101.095000   99.965000   99.505000   99.125000   \n",
       "75%    103.267500  103.997500  102.855000  102.392500  101.712500  101.410000   \n",
       "max    108.670000  109.330000  109.160000  106.250000  106.080000  105.830000   \n",
       "\n",
       "             Juli     Agustus   September     Oktober    November    Desember  \n",
       "count   34.000000   34.000000   34.000000   34.000000   34.000000   34.000000  \n",
       "mean    96.471471   96.838824   97.114118   97.015882   96.616765   96.275588  \n",
       "std     17.341319   17.450627   17.485843   17.546963   17.494098   17.461097  \n",
       "min      0.000000    0.000000    0.000000    0.000000    0.000000    0.000000  \n",
       "25%     96.477500   97.247500   97.330000   97.075000   96.957500   96.767500  \n",
       "50%     99.265000   99.440000   99.775000   99.835000   99.300000   98.550000  \n",
       "75%    101.370000  101.607500  102.365000  102.545000  101.760000  101.527500  \n",
       "max    106.600000  108.260000  108.720000  110.930000  111.760000  111.510000  "
      ]
     },
     "execution_count": 33,
     "metadata": {},
     "output_type": "execute_result"
    }
   ],
   "source": [
    "print(\"======================== Statistik Deskriptif Kelompok Petani Pangan Seluruh Provinsi ========================\")\n",
    "dfPProv.drop(columns=\"Tahunan\").describe()"
   ]
  },
  {
   "cell_type": "code",
   "execution_count": 34,
   "metadata": {},
   "outputs": [],
   "source": [
    "nasional = dfPangan.reset_index()\n",
    "nasional = nasional[nasional[\"Provinsi\"]==\"INDONESIA\"].drop(columns = \"Tahunan\").set_index('Provinsi').T['INDONESIA']"
   ]
  },
  {
   "cell_type": "markdown",
   "metadata": {},
   "source": [
    "### Rata - Rata Nasional Setiap Bulan"
   ]
  },
  {
   "cell_type": "code",
   "execution_count": 35,
   "metadata": {},
   "outputs": [
    {
     "data": {
      "text/plain": [
       "Januari      104.21\n",
       "Februari     103.76\n",
       "Maret        102.41\n",
       "April        100.93\n",
       "Mei          100.38\n",
       "Juni         100.42\n",
       "Juli         100.17\n",
       "Agustus      100.63\n",
       "September    101.53\n",
       "Oktober      101.43\n",
       "November     100.89\n",
       "Desember     100.34\n",
       "Name: INDONESIA, dtype: float64"
      ]
     },
     "execution_count": 35,
     "metadata": {},
     "output_type": "execute_result"
    }
   ],
   "source": [
    "nasional"
   ]
  },
  {
   "cell_type": "code",
   "execution_count": 36,
   "metadata": {},
   "outputs": [
    {
     "data": {
      "text/plain": [
       "count     12.00000\n",
       "mean     101.42500\n",
       "std        1.35537\n",
       "min      100.17000\n",
       "25%      100.41000\n",
       "50%      100.91000\n",
       "75%      101.75000\n",
       "max      104.21000\n",
       "Name: INDONESIA, dtype: float64"
      ]
     },
     "execution_count": 36,
     "metadata": {},
     "output_type": "execute_result"
    }
   ],
   "source": [
    "# Deskripsi dalam setahun secara nasional\n",
    "nasional.describe()"
   ]
  },
  {
   "cell_type": "code",
   "execution_count": 37,
   "metadata": {
    "scrolled": false
   },
   "outputs": [
    {
     "data": {
      "text/plain": [
       "[<matplotlib.lines.Line2D at 0x7f2dee67a6d0>]"
      ]
     },
     "execution_count": 37,
     "metadata": {},
     "output_type": "execute_result"
    },
    {
     "data": {
      "image/png": "[encoded data removed]",
      "text/plain": [
       "<Figure size 1080x360 with 1 Axes>"
      ]
     },
     "metadata": {
      "needs_background": "light"
     },
     "output_type": "display_data"
    }
   ],
   "source": [
    "# membuat grafik garis dengan nilai diambil dari kelompok tani secara nasional\n",
    "plt.figure(figsize=(15,5))\n",
    "plt.title('NTP Kelompok Tani Pangan Indonesia Tahun 2020')\n",
    "plt.plot(nasional.index, nasional.values)"
   ]
  },
  {
   "cell_type": "code",
   "execution_count": 38,
   "metadata": {},
   "outputs": [],
   "source": [
    "myData = data[data[\"Provinsi\"]==\"INDONESIA\"].drop([\"Tahunan\", \"Provinsi\"], axis=1).set_index(\"Kelompok\").T"
   ]
  },
  {
   "cell_type": "code",
   "execution_count": 43,
   "metadata": {},
   "outputs": [
    {
     "data": {
      "text/html": [
       "<div>\n",
       "<style scoped>\n",
       "    .dataframe tbody tr th:only-of-type {\n",
       "        vertical-align: middle;\n",
       "    }\n",
       "\n",
       "    .dataframe tbody tr th {\n",
       "        vertical-align: top;\n",
       "    }\n",
       "\n",
       "    .dataframe thead th {\n",
       "        text-align: right;\n",
       "    }\n",
       "</style>\n",
       "<table border=\"1\" class=\"dataframe\">\n",
       "  <thead>\n",
       "    <tr style=\"text-align: right;\">\n",
       "      <th>Kelompok</th>\n",
       "      <th>Petani</th>\n",
       "      <th>Petani Tanaman Pangan</th>\n",
       "      <th>Petani Hortikultura</th>\n",
       "      <th>Petani Tanaman Perkebunan</th>\n",
       "      <th>Petani Peternakan</th>\n",
       "      <th>Nelayan</th>\n",
       "      <th>Pembudidayaan Ikan</th>\n",
       "      <th>Nelayan dan Pembudidayaan Ikan</th>\n",
       "    </tr>\n",
       "  </thead>\n",
       "  <tbody>\n",
       "    <tr>\n",
       "      <th>Januari</th>\n",
       "      <td>104,16</td>\n",
       "      <td>104,21</td>\n",
       "      <td>105,17</td>\n",
       "      <td>107,43</td>\n",
       "      <td>98,06</td>\n",
       "      <td>101,11</td>\n",
       "      <td>101,62</td>\n",
       "      <td>101,31</td>\n",
       "    </tr>\n",
       "    <tr>\n",
       "      <th>Februari</th>\n",
       "      <td>103,35</td>\n",
       "      <td>103,76</td>\n",
       "      <td>104,32</td>\n",
       "      <td>105,40</td>\n",
       "      <td>98,23</td>\n",
       "      <td>100,31</td>\n",
       "      <td>101,17</td>\n",
       "      <td>100,65</td>\n",
       "    </tr>\n",
       "    <tr>\n",
       "      <th>Maret</th>\n",
       "      <td>102,09</td>\n",
       "      <td>102,41</td>\n",
       "      <td>103,50</td>\n",
       "      <td>103,39</td>\n",
       "      <td>98,12</td>\n",
       "      <td>100,05</td>\n",
       "      <td>100,67</td>\n",
       "      <td>100,30</td>\n",
       "    </tr>\n",
       "    <tr>\n",
       "      <th>April</th>\n",
       "      <td>100,32</td>\n",
       "      <td>100,93</td>\n",
       "      <td>102,28</td>\n",
       "      <td>100,82</td>\n",
       "      <td>96,40</td>\n",
       "      <td>98,49</td>\n",
       "      <td>99,02</td>\n",
       "      <td>98,70</td>\n",
       "    </tr>\n",
       "    <tr>\n",
       "      <th>Mei</th>\n",
       "      <td>99,47</td>\n",
       "      <td>100,38</td>\n",
       "      <td>101,68</td>\n",
       "      <td>98,51</td>\n",
       "      <td>96,66</td>\n",
       "      <td>98,69</td>\n",
       "      <td>99,76</td>\n",
       "      <td>99,11</td>\n",
       "    </tr>\n",
       "    <tr>\n",
       "      <th>Juni</th>\n",
       "      <td>99,60</td>\n",
       "      <td>100,42</td>\n",
       "      <td>100,51</td>\n",
       "      <td>98,47</td>\n",
       "      <td>98,29</td>\n",
       "      <td>99,22</td>\n",
       "      <td>99,88</td>\n",
       "      <td>99,48</td>\n",
       "    </tr>\n",
       "    <tr>\n",
       "      <th>Juli</th>\n",
       "      <td>100,09</td>\n",
       "      <td>100,17</td>\n",
       "      <td>99,77</td>\n",
       "      <td>100,19</td>\n",
       "      <td>99,94</td>\n",
       "      <td>100,01</td>\n",
       "      <td>100,40</td>\n",
       "      <td>100,17</td>\n",
       "    </tr>\n",
       "    <tr>\n",
       "      <th>Agustus</th>\n",
       "      <td>100,65</td>\n",
       "      <td>100,63</td>\n",
       "      <td>97,80</td>\n",
       "      <td>103,01</td>\n",
       "      <td>98,64</td>\n",
       "      <td>100,38</td>\n",
       "      <td>100,59</td>\n",
       "      <td>100,47</td>\n",
       "    </tr>\n",
       "    <tr>\n",
       "      <th>September</th>\n",
       "      <td>101,66</td>\n",
       "      <td>101,53</td>\n",
       "      <td>97,38</td>\n",
       "      <td>105,76</td>\n",
       "      <td>98,01</td>\n",
       "      <td>100,72</td>\n",
       "      <td>100,51</td>\n",
       "      <td>100,65</td>\n",
       "    </tr>\n",
       "    <tr>\n",
       "      <th>Oktober</th>\n",
       "      <td>102,25</td>\n",
       "      <td>101,43</td>\n",
       "      <td>99,42</td>\n",
       "      <td>107,58</td>\n",
       "      <td>97,75</td>\n",
       "      <td>100,73</td>\n",
       "      <td>101,09</td>\n",
       "      <td>100,89</td>\n",
       "    </tr>\n",
       "    <tr>\n",
       "      <th>November</th>\n",
       "      <td>102,86</td>\n",
       "      <td>100,89</td>\n",
       "      <td>101,27</td>\n",
       "      <td>110,00</td>\n",
       "      <td>98,32</td>\n",
       "      <td>100,97</td>\n",
       "      <td>100,65</td>\n",
       "      <td>100,86</td>\n",
       "    </tr>\n",
       "    <tr>\n",
       "      <th>Desember</th>\n",
       "      <td>103,25</td>\n",
       "      <td>100,34</td>\n",
       "      <td>102,29</td>\n",
       "      <td>111,80</td>\n",
       "      <td>98,72</td>\n",
       "      <td>102,00</td>\n",
       "      <td>101,24</td>\n",
       "      <td>101,72</td>\n",
       "    </tr>\n",
       "  </tbody>\n",
       "</table>\n",
       "</div>"
      ],
      "text/plain": [
       "Kelompok   Petani Petani Tanaman Pangan Petani Hortikultura  \\\n",
       "Januari    104,16                104,21              105,17   \n",
       "Februari   103,35                103,76              104,32   \n",
       "Maret      102,09                102,41              103,50   \n",
       "April      100,32                100,93              102,28   \n",
       "Mei         99,47                100,38              101,68   \n",
       "Juni        99,60                100,42              100,51   \n",
       "Juli       100,09                100,17               99,77   \n",
       "Agustus    100,65                100,63               97,80   \n",
       "September  101,66                101,53               97,38   \n",
       "Oktober    102,25                101,43               99,42   \n",
       "November   102,86                100,89              101,27   \n",
       "Desember   103,25                100,34              102,29   \n",
       "\n",
       "Kelompok  Petani Tanaman Perkebunan Petani Peternakan Nelayan  \\\n",
       "Januari                      107,43             98,06  101,11   \n",
       "Februari                     105,40             98,23  100,31   \n",
       "Maret                        103,39             98,12  100,05   \n",
       "April                        100,82             96,40   98,49   \n",
       "Mei                           98,51             96,66   98,69   \n",
       "Juni                          98,47             98,29   99,22   \n",
       "Juli                         100,19             99,94  100,01   \n",
       "Agustus                      103,01             98,64  100,38   \n",
       "September                    105,76             98,01  100,72   \n",
       "Oktober                      107,58             97,75  100,73   \n",
       "November                     110,00             98,32  100,97   \n",
       "Desember                     111,80             98,72  102,00   \n",
       "\n",
       "Kelompok  Pembudidayaan Ikan Nelayan dan Pembudidayaan Ikan  \n",
       "Januari               101,62                         101,31  \n",
       "Februari              101,17                         100,65  \n",
       "Maret                 100,67                         100,30  \n",
       "April                  99,02                          98,70  \n",
       "Mei                    99,76                          99,11  \n",
       "Juni                   99,88                          99,48  \n",
       "Juli                  100,40                         100,17  \n",
       "Agustus               100,59                         100,47  \n",
       "September             100,51                         100,65  \n",
       "Oktober               101,09                         100,89  \n",
       "November              100,65                         100,86  \n",
       "Desember              101,24                         101,72  "
      ]
     },
     "execution_count": 43,
     "metadata": {},
     "output_type": "execute_result"
    }
   ],
   "source": [
    "myData"
   ]
  },
  {
   "cell_type": "code",
   "execution_count": 39,
   "metadata": {},
   "outputs": [],
   "source": [
    "tamp = myData.apply(lambda x: x.str.replace(',','.')).astype(float).replace(np.nan, 0).rename(columns=lambda x: re.sub(' ','_',x))"
   ]
  },
  {
   "cell_type": "code",
   "execution_count": 41,
   "metadata": {
    "scrolled": false
   },
   "outputs": [
    {
     "data": {
      "text/plain": [
       "<matplotlib.legend.Legend at 0x7f2deddcb250>"
      ]
     },
     "execution_count": 41,
     "metadata": {},
     "output_type": "execute_result"
    },
    {
     "data": {
      "image/png": "[encoded data removed]",
      "text/plain": [
       "<Figure size 1080x576 with 1 Axes>"
      ]
     },
     "metadata": {
      "needs_background": "light"
     },
     "output_type": "display_data"
    }
   ],
   "source": [
    "# Grafik Jenis Usaha Pertanian / Perkebunan\n",
    "\n",
    "plt.figure(figsize=(15,8))\n",
    "plt.title('NTP (Perbandingan Antar Jenis Tanaman) Tahun 2020')\n",
    "plt.plot(tamp.index, tamp[\"Petani_Tanaman_Pangan\"], label = \"Petani Tanaman Pangan\")\n",
    "plt.plot(tamp.index, tamp[\"Petani_Hortikultura\"], label = \"Petani Hortikultura\")\n",
    "plt.plot(tamp.index, tamp[\"Petani\"], label = \"Petani\")\n",
    "plt.plot(tamp.index, tamp[\"Petani_Tanaman_Perkebunan\"], label = \"Petani_Tanaman_Perkebunan\")\n",
    "plt.legend()"
   ]
  },
  {
   "cell_type": "code",
   "execution_count": 42,
   "metadata": {},
   "outputs": [
    {
     "data": {
      "text/html": [
       "<div>\n",
       "<style scoped>\n",
       "    .dataframe tbody tr th:only-of-type {\n",
       "        vertical-align: middle;\n",
       "    }\n",
       "\n",
       "    .dataframe tbody tr th {\n",
       "        vertical-align: top;\n",
       "    }\n",
       "\n",
       "    .dataframe thead th {\n",
       "        text-align: right;\n",
       "    }\n",
       "</style>\n",
       "<table border=\"1\" class=\"dataframe\">\n",
       "  <thead>\n",
       "    <tr style=\"text-align: right;\">\n",
       "      <th>Kelompok</th>\n",
       "      <th>Petani</th>\n",
       "      <th>Petani_Tanaman_Pangan</th>\n",
       "      <th>Petani_Hortikultura</th>\n",
       "      <th>Petani_Tanaman_Perkebunan</th>\n",
       "      <th>Petani_Peternakan</th>\n",
       "      <th>Nelayan</th>\n",
       "      <th>Pembudidayaan_Ikan</th>\n",
       "      <th>Nelayan_dan_Pembudidayaan_Ikan</th>\n",
       "    </tr>\n",
       "  </thead>\n",
       "  <tbody>\n",
       "    <tr>\n",
       "      <th>count</th>\n",
       "      <td>12.000000</td>\n",
       "      <td>12.00000</td>\n",
       "      <td>12.000000</td>\n",
       "      <td>12.000000</td>\n",
       "      <td>12.000000</td>\n",
       "      <td>12.000000</td>\n",
       "      <td>12.00000</td>\n",
       "      <td>12.000000</td>\n",
       "    </tr>\n",
       "    <tr>\n",
       "      <th>mean</th>\n",
       "      <td>101.645833</td>\n",
       "      <td>101.42500</td>\n",
       "      <td>101.282500</td>\n",
       "      <td>104.363333</td>\n",
       "      <td>98.095000</td>\n",
       "      <td>100.223333</td>\n",
       "      <td>100.55000</td>\n",
       "      <td>100.359167</td>\n",
       "    </tr>\n",
       "    <tr>\n",
       "      <th>std</th>\n",
       "      <td>1.593312</td>\n",
       "      <td>1.35537</td>\n",
       "      <td>2.433389</td>\n",
       "      <td>4.385891</td>\n",
       "      <td>0.917452</td>\n",
       "      <td>1.021294</td>\n",
       "      <td>0.72369</td>\n",
       "      <td>0.883973</td>\n",
       "    </tr>\n",
       "    <tr>\n",
       "      <th>min</th>\n",
       "      <td>99.470000</td>\n",
       "      <td>100.17000</td>\n",
       "      <td>97.380000</td>\n",
       "      <td>98.470000</td>\n",
       "      <td>96.400000</td>\n",
       "      <td>98.490000</td>\n",
       "      <td>99.02000</td>\n",
       "      <td>98.700000</td>\n",
       "    </tr>\n",
       "    <tr>\n",
       "      <th>25%</th>\n",
       "      <td>100.262500</td>\n",
       "      <td>100.41000</td>\n",
       "      <td>99.682500</td>\n",
       "      <td>100.662500</td>\n",
       "      <td>97.945000</td>\n",
       "      <td>99.812500</td>\n",
       "      <td>100.27000</td>\n",
       "      <td>99.997500</td>\n",
       "    </tr>\n",
       "    <tr>\n",
       "      <th>50%</th>\n",
       "      <td>101.875000</td>\n",
       "      <td>100.91000</td>\n",
       "      <td>101.475000</td>\n",
       "      <td>104.395000</td>\n",
       "      <td>98.175000</td>\n",
       "      <td>100.345000</td>\n",
       "      <td>100.62000</td>\n",
       "      <td>100.560000</td>\n",
       "    </tr>\n",
       "    <tr>\n",
       "      <th>75%</th>\n",
       "      <td>102.957500</td>\n",
       "      <td>101.75000</td>\n",
       "      <td>102.592500</td>\n",
       "      <td>107.467500</td>\n",
       "      <td>98.400000</td>\n",
       "      <td>100.790000</td>\n",
       "      <td>101.11000</td>\n",
       "      <td>100.867500</td>\n",
       "    </tr>\n",
       "    <tr>\n",
       "      <th>max</th>\n",
       "      <td>104.160000</td>\n",
       "      <td>104.21000</td>\n",
       "      <td>105.170000</td>\n",
       "      <td>111.800000</td>\n",
       "      <td>99.940000</td>\n",
       "      <td>102.000000</td>\n",
       "      <td>101.62000</td>\n",
       "      <td>101.720000</td>\n",
       "    </tr>\n",
       "  </tbody>\n",
       "</table>\n",
       "</div>"
      ],
      "text/plain": [
       "Kelompok      Petani  Petani_Tanaman_Pangan  Petani_Hortikultura  \\\n",
       "count      12.000000               12.00000            12.000000   \n",
       "mean      101.645833              101.42500           101.282500   \n",
       "std         1.593312                1.35537             2.433389   \n",
       "min        99.470000              100.17000            97.380000   \n",
       "25%       100.262500              100.41000            99.682500   \n",
       "50%       101.875000              100.91000           101.475000   \n",
       "75%       102.957500              101.75000           102.592500   \n",
       "max       104.160000              104.21000           105.170000   \n",
       "\n",
       "Kelompok  Petani_Tanaman_Perkebunan  Petani_Peternakan     Nelayan  \\\n",
       "count                     12.000000          12.000000   12.000000   \n",
       "mean                     104.363333          98.095000  100.223333   \n",
       "std                        4.385891           0.917452    1.021294   \n",
       "min                       98.470000          96.400000   98.490000   \n",
       "25%                      100.662500          97.945000   99.812500   \n",
       "50%                      104.395000          98.175000  100.345000   \n",
       "75%                      107.467500          98.400000  100.790000   \n",
       "max                      111.800000          99.940000  102.000000   \n",
       "\n",
       "Kelompok  Pembudidayaan_Ikan  Nelayan_dan_Pembudidayaan_Ikan  \n",
       "count               12.00000                       12.000000  \n",
       "mean               100.55000                      100.359167  \n",
       "std                  0.72369                        0.883973  \n",
       "min                 99.02000                       98.700000  \n",
       "25%                100.27000                       99.997500  \n",
       "50%                100.62000                      100.560000  \n",
       "75%                101.11000                      100.867500  \n",
       "max                101.62000                      101.720000  "
      ]
     },
     "execution_count": 42,
     "metadata": {},
     "output_type": "execute_result"
    }
   ],
   "source": [
    "tamp.describe()"
   ]
  },
  {
   "cell_type": "code",
   "execution_count": null,
   "metadata": {},
   "outputs": [],
   "source": [
    "# Grafik Usaha Jenis Peternakan\n",
    "\n",
    "plt.figure(figsize=(15,8))\n",
    "plt.title('NTP (Jenis Hewan) Tahun 2020')\n",
    "plt.plot(tamp.index, tamp[\"Petani_Peternakan\"], label = \"Petani Peternakan\")\n",
    "plt.plot(tamp.index, tamp[\"Nelayan\"], label = \"Nelayan\")\n",
    "plt.plot(tamp.index, tamp[\"Pembudidayaan_Ikan\"], label = \"Pembudidayaan Ikan\")\n",
    "plt.legend()"
   ]
  },
  {
   "cell_type": "code",
   "execution_count": null,
   "metadata": {},
   "outputs": [],
   "source": [
    "dfPProv = dfPProv.reset_index()\n",
    "dfPProv[\"Tahunan\"].describe()"
   ]
  },
  {
   "cell_type": "code",
   "execution_count": null,
   "metadata": {},
   "outputs": [],
   "source": [
    "print(\"Daerah yang memiliki NTP tertinggi\")\n",
    "dfPProv[dfPProv[\"Tahunan\"]==dfPProv[\"Tahunan\"].max()]"
   ]
  },
  {
   "cell_type": "code",
   "execution_count": null,
   "metadata": {},
   "outputs": [],
   "source": [
    "ab = dfPProv[dfPProv[\"Tahunan\"]==dfPProv[\"Tahunan\"].max()].drop(columns = \"Tahunan\").set_index('Provinsi').T['NUSA TENGGARA BARAT']\n",
    "plt.figure(figsize=(15,5))\n",
    "plt.title('NTP NUSA TENGGARA BARAT Tahun 2020')\n",
    "plt.plot(ab.index, ab.values)"
   ]
  },
  {
   "cell_type": "code",
   "execution_count": null,
   "metadata": {},
   "outputs": [],
   "source": [
    "print(\"Daerah yang memiliki NTP terendah\")\n",
    "dfPProv[dfPProv[\"Tahunan\"]==dfPProv[\"Tahunan\"].min()]"
   ]
  },
  {
   "cell_type": "code",
   "execution_count": null,
   "metadata": {},
   "outputs": [],
   "source": [
    "print(\"========== Daftar Provinsi yang memiliki NTP di atas 100 ==========\")\n",
    "dfPProv[dfPProv[\"Tahunan\"] > 100].sort_values(by=[\"Tahunan\"], ascending=False)"
   ]
  },
  {
   "cell_type": "code",
   "execution_count": null,
   "metadata": {},
   "outputs": [],
   "source": [
    "dfPProv[dfPProv[\"Tahunan\"] > 100].sort_values(by=[\"Tahunan\"], ascending=False)[['Provinsi','Tahunan']].set_index(\"Provinsi\").plot(kind='bar', title =\"NTP > 100\", figsize=(10, 5), legend=True, fontsize=12)"
   ]
  },
  {
   "cell_type": "code",
   "execution_count": null,
   "metadata": {},
   "outputs": [],
   "source": [
    "print(\"========== Daftar Provinsi yang memiliki NTP kisaran angka 100 ==========\")\n",
    "dfPProv[(dfPProv[\"Tahunan\"] >99.9)&(dfPProv[\"Tahunan\"] < 101)].sort_values(by=[\"Tahunan\"], ascending=False)"
   ]
  },
  {
   "cell_type": "code",
   "execution_count": null,
   "metadata": {},
   "outputs": [],
   "source": [
    "print(\"========== Daftar Provinsi yang memiliki NTP di bawah 100 ==========\")\n",
    "dfPProv[dfPProv[\"Tahunan\"] < 100].sort_values(by=[\"Tahunan\"], ascending=False)"
   ]
  },
  {
   "cell_type": "code",
   "execution_count": null,
   "metadata": {},
   "outputs": [],
   "source": [
    "dfPangan.T.INDONESIA"
   ]
  },
  {
   "cell_type": "code",
   "execution_count": null,
   "metadata": {},
   "outputs": [],
   "source": [
    "# convert to csv (optional)\n",
    "#dfPProv[\"Tahunan\"].to_csv('dfPProv.csv')\n",
    "data[data[\"Provinsi\"]==\"INDONESIA\"].drop([\"Tahunan\", \"Provinsi\"], axis=1).set_index(\"Kelompok\").T.to_csv(\"dfNasionalNTP.csv\")"
   ]
  }
 ],
 "metadata": {
  "kernelspec": {
   "display_name": "Python 3",
   "language": "python",
   "name": "python3"
  },
  "language_info": {
   "codemirror_mode": {
    "name": "ipython",
    "version": 3
   },
   "file_extension": ".py",
   "mimetype": "text/x-python",
   "name": "python",
   "nbconvert_exporter": "python",
   "pygments_lexer": "ipython3",
   "version": "3.8.8"
  }
 },
 "nbformat": 4,
 "nbformat_minor": 2
}
